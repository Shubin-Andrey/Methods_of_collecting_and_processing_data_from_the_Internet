{
 "cells": [
  {
   "cell_type": "code",
   "execution_count": 1,
   "id": "ec44bc48",
   "metadata": {},
   "outputs": [],
   "source": [
    "from selenium import webdriver\n",
    "from webdriver_manager.chrome import ChromeDriverManager\n",
    "from selenium.webdriver.common.by import By"
   ]
  },
  {
   "cell_type": "markdown",
   "id": "299370d4",
   "metadata": {},
   "source": [
    "Написать программу, которая собирает «Хиты продаж» с сайтов техники М.видео, ОНЛАЙН\n",
    "ТРЕЙД и складывает данные в БД. Магазины можно выбрать свои. Главный критерий выбора:\n",
    "динамически загружаемые товары.\n"
   ]
  },
  {
   "cell_type": "code",
   "execution_count": 5,
   "id": "8fe00130",
   "metadata": {},
   "outputs": [
    {
     "name": "stderr",
     "output_type": "stream",
     "text": [
      "\n",
      "\n",
      "====== WebDriver manager ======\n",
      "Current google-chrome version is 94.0.4606\n",
      "Get LATEST driver version for 94.0.4606\n",
      "Driver [C:\\Users\\Андрей\\.wdm\\drivers\\chromedriver\\win32\\94.0.4606.61\\chromedriver.exe] found in cache\n"
     ]
    }
   ],
   "source": [
    "driver = webdriver.Chrome(ChromeDriverManager().install())"
   ]
  },
  {
   "cell_type": "code",
   "execution_count": 6,
   "id": "d7f3ee89",
   "metadata": {},
   "outputs": [],
   "source": [
    "driver.get('https://www.mvideo.ru/')"
   ]
  },
  {
   "cell_type": "code",
   "execution_count": 32,
   "id": "7d1ba5f2",
   "metadata": {},
   "outputs": [],
   "source": [
    "sorce = driver.find_element(By.XPATH, \"/html/body/mvid-root/div/ng-component/mvid-layout/div/main/div/mvid-simple-product-collection-mp[1]/mvid-simple-product-collection/mvid-carousel/div[1]/div/mvid-product-cards-group\")"
   ]
  },
  {
   "cell_type": "code",
   "execution_count": 35,
   "id": "4c02763e",
   "metadata": {},
   "outputs": [],
   "source": [
    "name_sorce = sorce.find_elements_by_class_name('title')\n",
    "price_sorce = sorce.find_elements_by_class_name('price__main-value')"
   ]
  },
  {
   "cell_type": "code",
   "execution_count": 45,
   "id": "56b9ea32",
   "metadata": {},
   "outputs": [],
   "source": [
    "product_list = []\n",
    "product_dict = {}"
   ]
  },
  {
   "cell_type": "code",
   "execution_count": 46,
   "id": "19563c6f",
   "metadata": {},
   "outputs": [],
   "source": [
    "for i, el in enumerate(name_sorce):\n",
    "    href = el.find_element_by_tag_name('a')\n",
    "    product_dict[el.text] = [price_sorce[i].text, href.get_attribute('href')]"
   ]
  },
  {
   "cell_type": "code",
   "execution_count": 47,
   "id": "61bc26d7",
   "metadata": {},
   "outputs": [
    {
     "data": {
      "text/plain": [
       "{'Смартфон Huawei P Smart 2021 4+128GB Midnight Black (PPA-LX1)': ['15 999 ',\n",
       "  'https://www.mvideo.ru/products/smartfon-huawei-p-smart-2021-4128gb-midnight-black-ppa-lx1-30053814'],\n",
       " 'Ноутбук Huawei MateBook D 15 BoB-WAH9Q 8+512GB Mystic Silver': ['54 999 ',\n",
       "  'https://www.mvideo.ru/products/noutbuk-huawei-matebook-d-15-bob-wah9q-8512gb-mystic-silver-30058198'],\n",
       " 'Тепловентилятор Centek CT-6002': ['999 ',\n",
       "  'https://www.mvideo.ru/products/teploventilyator-centek-ct-6002-20076823'],\n",
       " 'Конвектор Hyundai H-HV21-20-UI663': ['4 790 ',\n",
       "  'https://www.mvideo.ru/products/konvektor-hyundai-h-hv21-20-ui663-20055371'],\n",
       " 'Робот-пылесос Tefal Smart Force X-plorer RG6825WH': ['8 999 ',\n",
       "  'https://www.mvideo.ru/products/robot-pylesos-tefal-smart-force-x-plorer-rg6825wh-20063304'],\n",
       " 'Стиральная машина узкая Candy SmartPro CSO4 105TB1/2-07': ['16 999 ',\n",
       "  'https://www.mvideo.ru/products/stiralnaya-mashina-uzkaya-candy-smartpro-cso4-105tb1-2-07-20071248'],\n",
       " 'Умная колонка Капсула Мини с голосовым помощником Марусей от Mail.ru Group, серая': ['4 999 ',\n",
       "  'https://www.mvideo.ru/products/umnaya-kolonka-kapsula-mini-s-golosovym-pomoshhnikom-marusei-ot-mailru-group-seraya-10027506'],\n",
       " 'Телевизор Samsung UE43AU8000U': ['38 999 ',\n",
       "  'https://www.mvideo.ru/products/televizor-samsung-ue43au8000u-10026615'],\n",
       " 'Холодильник LG DoorCooling+ GA-B459SMUM': ['39 999 ',\n",
       "  'https://www.mvideo.ru/products/holodilnik-lg-doorcooling-ga-b459smum-20069639'],\n",
       " 'Утюг Tefal Ultragliss Anti-Calc Plus FV6840E0': ['6 999 ',\n",
       "  'https://www.mvideo.ru/products/utug-tefal-ultragliss-anti-calc-plus-fv6840e0-20070326'],\n",
       " 'Электрогриль Tefal Optigrill+ GC712D34': ['15 999 ',\n",
       "  'https://www.mvideo.ru/products/elektrogril-tefal-optigrill-gc712d34-20036881'],\n",
       " 'Электрочайник Tefal Loft KO250130': ['2 999 ',\n",
       "  'https://www.mvideo.ru/products/elektrochainik-tefal-loft-ko250130-20062333'],\n",
       " 'Электрическая зубная щетка Braun Oral-B 2500/D501.513.2X': ['7 999 ',\n",
       "  'https://www.mvideo.ru/products/elektricheskaya-zubnaya-shhetka-braun-oral-b-2500-d5015132x-20060465'],\n",
       " 'Электробритва Braun 50-R1000s': ['7 499 ',\n",
       "  'https://www.mvideo.ru/products/elektrobritva-braun-50-r1000s-20069088'],\n",
       " 'Триммер Rowenta Forever Sharp TN6000F(4/5)': ['2 499 ',\n",
       "  'https://www.mvideo.ru/products/trimmer-rowenta-forever-sharp-tn6000f4-5-20061772'],\n",
       " 'Эпилятор Braun 3-321 Legs & Body': ['3 499 ',\n",
       "  'https://www.mvideo.ru/products/epilyator-braun-3-321-legs--body-20039050']}"
      ]
     },
     "execution_count": 47,
     "metadata": {},
     "output_type": "execute_result"
    }
   ],
   "source": [
    "product_dict"
   ]
  },
  {
   "cell_type": "code",
   "execution_count": 42,
   "id": "b62a4dd2",
   "metadata": {},
   "outputs": [],
   "source": [
    "from pymongo import MongoClient"
   ]
  },
  {
   "cell_type": "code",
   "execution_count": null,
   "id": "7b8c16d5",
   "metadata": {},
   "outputs": [],
   "source": [
    "client = MongoClient('localhost', 27017)\n",
    "db = client['мвидео хит продаж']\n",
    "collection = db.Habr_news_collection"
   ]
  }
 ],
 "metadata": {
  "kernelspec": {
   "display_name": "Python 3",
   "language": "python",
   "name": "python3"
  },
  "language_info": {
   "codemirror_mode": {
    "name": "ipython",
    "version": 3
   },
   "file_extension": ".py",
   "mimetype": "text/x-python",
   "name": "python",
   "nbconvert_exporter": "python",
   "pygments_lexer": "ipython3",
   "version": "3.8.8"
  }
 },
 "nbformat": 4,
 "nbformat_minor": 5
}
