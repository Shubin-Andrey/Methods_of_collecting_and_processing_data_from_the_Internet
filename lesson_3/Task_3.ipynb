{
 "cells": [
  {
   "cell_type": "markdown",
   "id": "cef2d726",
   "metadata": {},
   "source": [
    "Написать функцию, которая будет добавлять в вашу базу данных только новые вакансии с сайта."
   ]
  },
  {
   "cell_type": "code",
   "execution_count": 3,
   "id": "9a128c92",
   "metadata": {},
   "outputs": [],
   "source": [
    "from bs4 import BeautifulSoup as bs  \n",
    "from bs4 import BeautifulStoneSoup    \n",
    "import bs4     \n",
    "import requests\n",
    "import json\n",
    "import pandas as pd\n",
    "import numpy as np\n",
    "import re\n",
    "from pymongo import MongoClient\n",
    "import ast\n"
   ]
  },
  {
   "cell_type": "code",
   "execution_count": 4,
   "id": "22c84f8d",
   "metadata": {},
   "outputs": [],
   "source": [
    "client = MongoClient('localhost', 27017)\n",
    "db = client['HH_database']\n",
    "collection = db.HH_API_collection"
   ]
  },
  {
   "cell_type": "code",
   "execution_count": 5,
   "id": "6d925d91",
   "metadata": {},
   "outputs": [],
   "source": [
    "def getPage(page = 0):\n",
    "    \"\"\"\n",
    "    Создаем метод для получения страницы со списком вакансий.\n",
    "    Аргументы:\n",
    "        page - Индекс страницы, начинается с 0. Значение по умолчанию 0, т.е. первая страница\n",
    "    \"\"\"\n",
    "     \n",
    "    # Справочник для параметров GET-запроса\n",
    "    params = {\n",
    "        'text': 'NAME:Data Scientist', # Текст фильтра. В имени должно быть слово \"Аналитик\"\n",
    "        'area': 1, # Поиск ощуществляется по вакансиям города Москва\n",
    "        'page': page, # Индекс страницы поиска на HH\n",
    "        'per_page': 100 # Кол-во вакансий на 1 странице\n",
    "    }\n",
    "     \n",
    "     \n",
    "    req = requests.get('https://api.hh.ru/vacancies', params) # Посылаем запрос к API\n",
    "    data = req.content.decode() # Декодируем его ответ, чтобы Кириллица отображалась корректно\n",
    "    req.close()\n",
    "    return data"
   ]
  },
  {
   "cell_type": "code",
   "execution_count": 6,
   "id": "2daaced4",
   "metadata": {},
   "outputs": [],
   "source": [
    "def load_data(p):\n",
    "    jsObj = json.loads(getPage(0))\n",
    "    my_df = pd.DataFrame.from_dict(jsObj['items'], orient='columns')\n",
    "    # Считываем первые 2000 вакансий\n",
    "    for page in range(1, 20):\n",
    "\n",
    "        # Преобразуем текст ответа запроса в справочник Python\n",
    "        jsObj = json.loads(getPage(page))\n",
    "        my_df_ = pd.DataFrame.from_dict(jsObj['items'], orient='columns')\n",
    "        my_df = pd.concat([my_df, my_df_], axis=0)\n",
    "        # Проверка на последнюю страницу, если вакансий меньше 2000\n",
    "        if (jsObj['pages'] - page) <= 1:\n",
    "            break\n",
    "\n",
    "    print('Старницы поиска собраны')\n",
    "    return my_df"
   ]
  },
  {
   "cell_type": "code",
   "execution_count": 7,
   "id": "268a8aa3",
   "metadata": {},
   "outputs": [
    {
     "name": "stdout",
     "output_type": "stream",
     "text": [
      "Старницы поиска собраны\n"
     ]
    }
   ],
   "source": [
    "my_df = load_data(1)"
   ]
  },
  {
   "cell_type": "code",
   "execution_count": 8,
   "id": "cc8ca5ea",
   "metadata": {},
   "outputs": [],
   "source": [
    "for i, row in my_df.iterrows():\n",
    "    if row['salary'] != None:\n",
    "        for e in row['salary']:\n",
    "            my_df.loc[i, e] = row['salary'][e]\n",
    "my_df.rename(columns={'from': 'salary_from', 'to':'salary_to', 'currency':'salary_currency', 'gross':'salary_gross'}, inplace=True)"
   ]
  },
  {
   "cell_type": "code",
   "execution_count": null,
   "id": "64ba114a",
   "metadata": {},
   "outputs": [],
   "source": [
    "Если вакансия есть, обновляем зарплату(вдруг подросла), если нет, создаем новую запись"
   ]
  },
  {
   "cell_type": "code",
   "execution_count": 11,
   "id": "edff6878",
   "metadata": {},
   "outputs": [],
   "source": [
    "for i, row in my_df.iterrows():\n",
    "    #print(i,' **** ', row)\n",
    "    comparison_target = row['employer']\n",
    "    db.collection.update_one(\n",
    "        {'employer': comparison_target, 'name':row['name']},\n",
    "        {'$set': {'salary': row['salary'], 'salary_from': row['salary_from'], 'salary_to': row['salary_to']}}, \n",
    "        upsert=True\n",
    "    )"
   ]
  },
  {
   "cell_type": "code",
   "execution_count": null,
   "id": "db9080ba",
   "metadata": {},
   "outputs": [],
   "source": []
  }
 ],
 "metadata": {
  "kernelspec": {
   "display_name": "Python 3",
   "language": "python",
   "name": "python3"
  },
  "language_info": {
   "codemirror_mode": {
    "name": "ipython",
    "version": 3
   },
   "file_extension": ".py",
   "mimetype": "text/x-python",
   "name": "python",
   "nbconvert_exporter": "python",
   "pygments_lexer": "ipython3",
   "version": "3.8.8"
  }
 },
 "nbformat": 4,
 "nbformat_minor": 5
}
