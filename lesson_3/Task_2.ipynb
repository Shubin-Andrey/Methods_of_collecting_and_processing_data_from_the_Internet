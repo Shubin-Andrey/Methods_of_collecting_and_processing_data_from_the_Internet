{
 "cells": [
  {
   "cell_type": "markdown",
   "id": "5f18fa42",
   "metadata": {},
   "source": [
    "Написать функцию, которая производит поиск и выводит на экран вакансии с заработной платой больше введённой суммы."
   ]
  },
  {
   "cell_type": "code",
   "execution_count": 1,
   "id": "cd083ba5",
   "metadata": {},
   "outputs": [],
   "source": [
    "from bs4 import BeautifulSoup as bs  \n",
    "from bs4 import BeautifulStoneSoup    \n",
    "import bs4     \n",
    "import requests\n",
    "import json\n",
    "import pandas as pd\n",
    "import numpy as np\n",
    "import re\n",
    "from pymongo import MongoClient\n",
    "import ast"
   ]
  },
  {
   "cell_type": "code",
   "execution_count": 2,
   "id": "7b49629e",
   "metadata": {},
   "outputs": [],
   "source": [
    "client = MongoClient('localhost', 27017)\n",
    "db = client['HH_database']\n",
    "collection = db.HH_API_collection"
   ]
  },
  {
   "cell_type": "code",
   "execution_count": 8,
   "id": "f91e0e22",
   "metadata": {},
   "outputs": [],
   "source": [
    "a = db.collection.find( {} )"
   ]
  },
  {
   "cell_type": "code",
   "execution_count": 9,
   "id": "413dec3c",
   "metadata": {},
   "outputs": [
    {
     "name": "stdout",
     "output_type": "stream",
     "text": [
      "{'_id': ObjectId('616468d5d743c782d93ff30b'), 'id': '48434078', 'premium': False, 'name': 'Data Scientist', 'department': None, 'has_test': False, 'response_letter_required': False, 'area': {'id': '1', 'name': 'Москва', 'url': 'https://api.hh.ru/areas/1'}, 'salary': {'from': 180000, 'to': 250000, 'currency': 'RUR', 'gross': False}, 'type': {'id': 'open', 'name': 'Открытая'}, 'address': None, 'response_url': None, 'sort_point_distance': None, 'published_at': '2021-10-10T12:06:52+0300', 'created_at': '2021-10-10T12:06:52+0300', 'archived': False, 'apply_alternate_url': 'https://hh.ru/applicant/vacancy_response?vacancyId=48434078', 'insider_interview': None, 'url': 'https://api.hh.ru/vacancies/48434078?host=hh.ru', 'alternate_url': 'https://hh.ru/vacancy/48434078', 'relations': [], 'employer': {'id': '1664868', 'name': 'CORE', 'url': 'https://api.hh.ru/employers/1664868', 'alternate_url': 'https://hh.ru/employer/1664868', 'logo_urls': {'original': 'https://hhcdn.ru/employer-logo-original/589183.png', '240': 'https://hhcdn.ru/employer-logo/2797988.png', '90': 'https://hhcdn.ru/employer-logo/2797987.png'}, 'vacancies_url': 'https://api.hh.ru/vacancies?employer_id=1664868', 'trusted': True}, 'snippet': {'requirement': 'Знание и опыт применения классических алгоритмов машинного обучения. Знание алгоритмов глубокого обучения. Владение Python и основными библиотеками для работы с...', 'responsibility': 'Сбор, обработка и визуализация данных. Разработка моделей машинного обучения. Оценка качества и совершенствование моделей. Вывод моделей в продакшн. '}, 'contacts': None, 'schedule': {'id': 'remote', 'name': 'Удаленная работа'}, 'working_days': [], 'working_time_intervals': [], 'working_time_modes': [], 'accept_temporary': False, 'salary_from': 180000.0, 'salary_to': 250000.0, 'salary_currency': 'RUR', 'salary_gross': False}\n",
      "**************************\n"
     ]
    }
   ],
   "source": [
    "for doc in a:\n",
    "    print(doc)\n",
    "    print('**************************')\n",
    "    break"
   ]
  },
  {
   "cell_type": "markdown",
   "id": "21998e4b",
   "metadata": {},
   "source": [
    "Интересующая сумма"
   ]
  },
  {
   "cell_type": "code",
   "execution_count": 10,
   "id": "3781fc61",
   "metadata": {},
   "outputs": [],
   "source": [
    "TARGET = 160000"
   ]
  },
  {
   "cell_type": "code",
   "execution_count": 26,
   "id": "f7209916",
   "metadata": {},
   "outputs": [
    {
     "data": {
      "text/plain": [
       "[{'name': 'Data Scientist',\n",
       "  'area': {'id': '1', 'name': 'Москва', 'url': 'https://api.hh.ru/areas/1'},\n",
       "  'employer': {'id': '1664868',\n",
       "   'name': 'CORE',\n",
       "   'url': 'https://api.hh.ru/employers/1664868',\n",
       "   'alternate_url': 'https://hh.ru/employer/1664868',\n",
       "   'logo_urls': {'original': 'https://hhcdn.ru/employer-logo-original/589183.png',\n",
       "    '240': 'https://hhcdn.ru/employer-logo/2797988.png',\n",
       "    '90': 'https://hhcdn.ru/employer-logo/2797987.png'},\n",
       "   'vacancies_url': 'https://api.hh.ru/vacancies?employer_id=1664868',\n",
       "   'trusted': True},\n",
       "  'salary_from': 180000.0,\n",
       "  'salary_to': 250000.0},\n",
       " {'name': 'Data Scientist',\n",
       "  'area': {'id': '1', 'name': 'Москва', 'url': 'https://api.hh.ru/areas/1'},\n",
       "  'employer': {'id': '250',\n",
       "   'name': 'COMTEK Inc.',\n",
       "   'url': 'https://api.hh.ru/employers/250',\n",
       "   'alternate_url': 'https://hh.ru/employer/250',\n",
       "   'logo_urls': {'original': 'https://hhcdn.ru/employer-logo-original/462338.png',\n",
       "    '90': 'https://hhcdn.ru/employer-logo/2291212.png',\n",
       "    '240': 'https://hhcdn.ru/employer-logo/2291213.png'},\n",
       "   'vacancies_url': 'https://api.hh.ru/vacancies?employer_id=250',\n",
       "   'trusted': True},\n",
       "  'salary_from': 150000.0,\n",
       "  'salary_to': 250000.0}]"
      ]
     },
     "execution_count": 26,
     "metadata": {},
     "output_type": "execute_result"
    }
   ],
   "source": [
    "list(db.collection.find( { '$or': [ { 'salary_from': { '$gte': TARGET } }, { 'salary_to': { '$gte': TARGET } } ] }, \n",
    "                   {'name': 1, 'area': 1, 'vacancies_url':1, 'employer':1, '_id':0, 'salary_to':1, 'salary_from':1} ))[:2]"
   ]
  },
  {
   "cell_type": "code",
   "execution_count": 21,
   "id": "87a35c37",
   "metadata": {},
   "outputs": [],
   "source": [
    "a = db.collection.find( { '$or': [ { 'salary_from': { '$gte': TARGET } }, { 'salary_to': { '$gte': TARGET } } ] }, \n",
    "                   {'name': 1, 'area': 1, 'vacancies_url':1, 'employer':1, '_id':0, 'salary_to':1, 'salary_from':1} )"
   ]
  },
  {
   "cell_type": "code",
   "execution_count": 22,
   "id": "b4de1617",
   "metadata": {},
   "outputs": [],
   "source": [
    "my_df = pd.DataFrame.from_dict(a, orient='columns')"
   ]
  },
  {
   "cell_type": "code",
   "execution_count": 23,
   "id": "cd0293f7",
   "metadata": {},
   "outputs": [
    {
     "data": {
      "text/html": [
       "<div>\n",
       "<style scoped>\n",
       "    .dataframe tbody tr th:only-of-type {\n",
       "        vertical-align: middle;\n",
       "    }\n",
       "\n",
       "    .dataframe tbody tr th {\n",
       "        vertical-align: top;\n",
       "    }\n",
       "\n",
       "    .dataframe thead th {\n",
       "        text-align: right;\n",
       "    }\n",
       "</style>\n",
       "<table border=\"1\" class=\"dataframe\">\n",
       "  <thead>\n",
       "    <tr style=\"text-align: right;\">\n",
       "      <th></th>\n",
       "      <th>name</th>\n",
       "      <th>area</th>\n",
       "      <th>employer</th>\n",
       "      <th>salary_from</th>\n",
       "      <th>salary_to</th>\n",
       "    </tr>\n",
       "  </thead>\n",
       "  <tbody>\n",
       "    <tr>\n",
       "      <th>0</th>\n",
       "      <td>Data Scientist</td>\n",
       "      <td>{'id': '1', 'name': 'Москва', 'url': 'https://...</td>\n",
       "      <td>{'id': '1664868', 'name': 'CORE', 'url': 'http...</td>\n",
       "      <td>180000.0</td>\n",
       "      <td>250000.0</td>\n",
       "    </tr>\n",
       "    <tr>\n",
       "      <th>1</th>\n",
       "      <td>Data Scientist</td>\n",
       "      <td>{'id': '1', 'name': 'Москва', 'url': 'https://...</td>\n",
       "      <td>{'id': '250', 'name': 'COMTEK Inc.', 'url': 'h...</td>\n",
       "      <td>150000.0</td>\n",
       "      <td>250000.0</td>\n",
       "    </tr>\n",
       "    <tr>\n",
       "      <th>2</th>\n",
       "      <td>Data scientist</td>\n",
       "      <td>{'id': '1', 'name': 'Москва', 'url': 'https://...</td>\n",
       "      <td>{'id': '3306967', 'name': 'Mind&amp;Machine', 'url...</td>\n",
       "      <td>180000.0</td>\n",
       "      <td>300000.0</td>\n",
       "    </tr>\n",
       "    <tr>\n",
       "      <th>3</th>\n",
       "      <td>Data Scientist</td>\n",
       "      <td>{'id': '1', 'name': 'Москва', 'url': 'https://...</td>\n",
       "      <td>{'id': '5488399', 'name': 'Самокат (ООО Умное ...</td>\n",
       "      <td>200000.0</td>\n",
       "      <td>NaN</td>\n",
       "    </tr>\n",
       "    <tr>\n",
       "      <th>4</th>\n",
       "      <td>Data Scientist</td>\n",
       "      <td>{'id': '1', 'name': 'Москва', 'url': 'https://...</td>\n",
       "      <td>{'id': '2324020', 'name': 'Точка', 'url': 'htt...</td>\n",
       "      <td>NaN</td>\n",
       "      <td>300000.0</td>\n",
       "    </tr>\n",
       "    <tr>\n",
       "      <th>...</th>\n",
       "      <td>...</td>\n",
       "      <td>...</td>\n",
       "      <td>...</td>\n",
       "      <td>...</td>\n",
       "      <td>...</td>\n",
       "    </tr>\n",
       "    <tr>\n",
       "      <th>114</th>\n",
       "      <td>Системный аналитик (ETL, Big-Data, ML)</td>\n",
       "      <td>{'id': '1', 'name': 'Москва', 'url': 'https://...</td>\n",
       "      <td>{'id': '124', 'name': 'Coleman Services', 'url...</td>\n",
       "      <td>200000.0</td>\n",
       "      <td>NaN</td>\n",
       "    </tr>\n",
       "    <tr>\n",
       "      <th>115</th>\n",
       "      <td>Data-аналитик в дивизион «Массовая персонализа...</td>\n",
       "      <td>{'id': '1', 'name': 'Москва', 'url': 'https://...</td>\n",
       "      <td>{'id': '3529', 'name': 'Сбербанк', 'url': 'htt...</td>\n",
       "      <td>NaN</td>\n",
       "      <td>300000.0</td>\n",
       "    </tr>\n",
       "    <tr>\n",
       "      <th>116</th>\n",
       "      <td>Data Engineer в платформу Data Lake</td>\n",
       "      <td>{'id': '1', 'name': 'Москва', 'url': 'https://...</td>\n",
       "      <td>{'id': '4023', 'name': 'Райффайзенбанк', 'url'...</td>\n",
       "      <td>300000.0</td>\n",
       "      <td>NaN</td>\n",
       "    </tr>\n",
       "    <tr>\n",
       "      <th>117</th>\n",
       "      <td>Data Engineer</td>\n",
       "      <td>{'id': '1', 'name': 'Москва', 'url': 'https://...</td>\n",
       "      <td>{'id': '1319166', 'name': 'Экспириенс', 'url':...</td>\n",
       "      <td>200000.0</td>\n",
       "      <td>NaN</td>\n",
       "    </tr>\n",
       "    <tr>\n",
       "      <th>118</th>\n",
       "      <td>Руководитель группы разработки Data Science, К...</td>\n",
       "      <td>{'id': '1', 'name': 'Москва', 'url': 'https://...</td>\n",
       "      <td>{'id': '2180', 'name': 'Ozon', 'url': 'https:/...</td>\n",
       "      <td>180000.0</td>\n",
       "      <td>250000.0</td>\n",
       "    </tr>\n",
       "  </tbody>\n",
       "</table>\n",
       "<p>119 rows × 5 columns</p>\n",
       "</div>"
      ],
      "text/plain": [
       "                                                  name  \\\n",
       "0                                       Data Scientist   \n",
       "1                                       Data Scientist   \n",
       "2                                       Data scientist   \n",
       "3                                       Data Scientist   \n",
       "4                                       Data Scientist   \n",
       "..                                                 ...   \n",
       "114             Системный аналитик (ETL, Big-Data, ML)   \n",
       "115  Data-аналитик в дивизион «Массовая персонализа...   \n",
       "116                Data Engineer в платформу Data Lake   \n",
       "117                                      Data Engineer   \n",
       "118  Руководитель группы разработки Data Science, К...   \n",
       "\n",
       "                                                  area  \\\n",
       "0    {'id': '1', 'name': 'Москва', 'url': 'https://...   \n",
       "1    {'id': '1', 'name': 'Москва', 'url': 'https://...   \n",
       "2    {'id': '1', 'name': 'Москва', 'url': 'https://...   \n",
       "3    {'id': '1', 'name': 'Москва', 'url': 'https://...   \n",
       "4    {'id': '1', 'name': 'Москва', 'url': 'https://...   \n",
       "..                                                 ...   \n",
       "114  {'id': '1', 'name': 'Москва', 'url': 'https://...   \n",
       "115  {'id': '1', 'name': 'Москва', 'url': 'https://...   \n",
       "116  {'id': '1', 'name': 'Москва', 'url': 'https://...   \n",
       "117  {'id': '1', 'name': 'Москва', 'url': 'https://...   \n",
       "118  {'id': '1', 'name': 'Москва', 'url': 'https://...   \n",
       "\n",
       "                                              employer  salary_from  salary_to  \n",
       "0    {'id': '1664868', 'name': 'CORE', 'url': 'http...     180000.0   250000.0  \n",
       "1    {'id': '250', 'name': 'COMTEK Inc.', 'url': 'h...     150000.0   250000.0  \n",
       "2    {'id': '3306967', 'name': 'Mind&Machine', 'url...     180000.0   300000.0  \n",
       "3    {'id': '5488399', 'name': 'Самокат (ООО Умное ...     200000.0        NaN  \n",
       "4    {'id': '2324020', 'name': 'Точка', 'url': 'htt...          NaN   300000.0  \n",
       "..                                                 ...          ...        ...  \n",
       "114  {'id': '124', 'name': 'Coleman Services', 'url...     200000.0        NaN  \n",
       "115  {'id': '3529', 'name': 'Сбербанк', 'url': 'htt...          NaN   300000.0  \n",
       "116  {'id': '4023', 'name': 'Райффайзенбанк', 'url'...     300000.0        NaN  \n",
       "117  {'id': '1319166', 'name': 'Экспириенс', 'url':...     200000.0        NaN  \n",
       "118  {'id': '2180', 'name': 'Ozon', 'url': 'https:/...     180000.0   250000.0  \n",
       "\n",
       "[119 rows x 5 columns]"
      ]
     },
     "execution_count": 23,
     "metadata": {},
     "output_type": "execute_result"
    }
   ],
   "source": [
    "my_df"
   ]
  },
  {
   "cell_type": "code",
   "execution_count": null,
   "id": "b59a034e",
   "metadata": {},
   "outputs": [],
   "source": []
  }
 ],
 "metadata": {
  "kernelspec": {
   "display_name": "Python 3",
   "language": "python",
   "name": "python3"
  },
  "language_info": {
   "codemirror_mode": {
    "name": "ipython",
    "version": 3
   },
   "file_extension": ".py",
   "mimetype": "text/x-python",
   "name": "python",
   "nbconvert_exporter": "python",
   "pygments_lexer": "ipython3",
   "version": "3.8.8"
  }
 },
 "nbformat": 4,
 "nbformat_minor": 5
}
